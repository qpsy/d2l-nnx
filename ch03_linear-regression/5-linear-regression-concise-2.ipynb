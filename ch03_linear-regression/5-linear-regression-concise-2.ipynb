{
 "cells": [
  {
   "cell_type": "markdown",
   "id": "5693d0b1",
   "metadata": {
    "origin_pos": 1
   },
   "source": [
    "# Concise Implementation of Linear Regression\n",
    ":label:`sec_linear_concise`\n",
    "\n",
    "Deep learning has witnessed a sort of Cambrian explosion\n",
    "over the past decade.\n",
    "The sheer number of techniques, applications and algorithms by far surpasses the\n",
    "progress of previous decades. \n",
    "This is due to a fortuitous combination of multiple factors,\n",
    "one of which is the powerful free tools\n",
    "offered by a number of open-source deep learning frameworks.\n",
    "Theano :cite:`Bergstra.Breuleux.Bastien.ea.2010`,\n",
    "DistBelief :cite:`Dean.Corrado.Monga.ea.2012`,\n",
    "and Caffe :cite:`Jia.Shelhamer.Donahue.ea.2014`\n",
    "arguably represent the\n",
    "first generation of such models \n",
    "that found widespread adoption.\n",
    "In contrast to earlier (seminal) works like\n",
    "SN2 (Simulateur Neuristique) :cite:`Bottou.Le-Cun.1988`,\n",
    "which provided a Lisp-like programming experience,\n",
    "modern frameworks offer automatic differentiation\n",
    "and the convenience of Python.\n",
    "These frameworks allow us to automate and modularize\n",
    "the repetitive work of implementing gradient-based learning algorithms.\n",
    "\n",
    "In :numref:`sec_linear_scratch`, we relied only on\n",
    "(i) tensors for data storage and linear algebra;\n",
    "and (ii) automatic differentiation for calculating gradients.\n",
    "In practice, because data iterators, loss functions, optimizers,\n",
    "and neural network layers\n",
    "are so common, modern libraries implement these components for us as well.\n",
    "In this section, (**we will show you how to implement\n",
    "the linear regression model**) from :numref:`sec_linear_scratch`\n",
    "(**concisely by using high-level APIs**) of deep learning frameworks.\n"
   ]
  },
  {
   "cell_type": "code",
   "execution_count": 2,
   "id": "5ab17442",
   "metadata": {
    "execution": {
     "iopub.execute_input": "2023-08-18T19:40:52.171091Z",
     "iopub.status.busy": "2023-08-18T19:40:52.170573Z",
     "iopub.status.idle": "2023-08-18T19:40:57.829455Z",
     "shell.execute_reply": "2023-08-18T19:40:57.828534Z"
    },
    "origin_pos": 5,
    "tab": [
     "jax"
    ]
   },
   "outputs": [],
   "source": [
    "import matplotlib.pyplot as plt\n",
    "import tensorflow as tf\n",
    "from tensorflow_probability.substrates import jax as tfp\n",
    "import jax\n",
    "import jax.numpy as jnp\n",
    "import optax\n",
    "from flax import nnx\n",
    "\n",
    "tfd = tfp.distributions\n",
    "key = tfp.util.SeedStream(1252, salt=\"regression-concise\")"
   ]
  },
  {
   "cell_type": "code",
   "execution_count": 4,
   "id": "545054c1",
   "metadata": {},
   "outputs": [],
   "source": [
    "# generate synthetic regression data\n",
    "def gen_reg_data(w, b, seed, noise=0.01, n=500):\n",
    "\tkey = tfp.util.SeedStream(seed, salt=\"gen_reg_data\")\n",
    "\tnormal = tfd.Normal(loc=0.0, scale=1.0)\n",
    "\tX = normal.sample((n, w.shape[0]), seed=key())\n",
    "\tnoise = normal.sample((n, 1), seed=key()) * noise\n",
    "\treturn X, jnp.matmul(X, jnp.reshape(w, (-1, 1))) + b + noise"
   ]
  },
  {
   "cell_type": "code",
   "execution_count": 5,
   "id": "81d6c1a1",
   "metadata": {},
   "outputs": [],
   "source": [
    "eval_every = 100\n",
    "batch_size = 250"
   ]
  },
  {
   "cell_type": "code",
   "execution_count": 17,
   "id": "2cab61d6",
   "metadata": {},
   "outputs": [],
   "source": [
    "train_data = gen_reg_data(w=jnp.array([2, -3.4]), b=4.2, n=500, seed=714)\n",
    "train_data = tf.data.Dataset.from_tensor_slices(train_data).repeat(1000).shuffle(200)\n",
    "train_data = train_data.batch(batch_size=batch_size, drop_remainder=True).prefetch(1)"
   ]
  },
  {
   "cell_type": "code",
   "execution_count": 18,
   "id": "77617a9f",
   "metadata": {},
   "outputs": [
    {
     "data": {
      "text/plain": [
       "<tf.Tensor: shape=(), dtype=int64, numpy=2000>"
      ]
     },
     "execution_count": 18,
     "metadata": {},
     "output_type": "execute_result"
    }
   ],
   "source": [
    "tf.data.experimental.cardinality(train_data)"
   ]
  },
  {
   "cell_type": "code",
   "execution_count": 19,
   "id": "32ddd0dc",
   "metadata": {},
   "outputs": [],
   "source": [
    "test_data = gen_reg_data(w=jnp.array([2, -3.4]), b=4.2, n=250, seed=714)\n",
    "test_data = tf.data.Dataset.from_tensor_slices(test_data)\n",
    "test_data = test_data.batch(batch_size=batch_size, drop_remainder=True).prefetch(1)"
   ]
  },
  {
   "cell_type": "markdown",
   "id": "6f8213d1",
   "metadata": {
    "origin_pos": 6
   },
   "source": [
    "## Defining the Model\n",
    "\n",
    "When we implemented linear regression from scratch\n",
    "in :numref:`sec_linear_scratch`,\n",
    "we defined our model parameters explicitly\n",
    "and coded up the calculations to produce output\n",
    "using basic linear algebra operations.\n",
    "You *should* know how to do this.\n",
    "But once your models get more complex,\n",
    "and once you have to do this nearly every day,\n",
    "you will be glad of the assistance.\n",
    "The situation is similar to coding up your own blog from scratch.\n",
    "Doing it once or twice is rewarding and instructive,\n",
    "but you would be a lousy web developer\n",
    "if you spent a month reinventing the wheel.\n",
    "\n",
    "For standard operations,\n",
    "we can [**use a framework's predefined layers,**]\n",
    "which allow us to focus\n",
    "on the layers used to construct the model\n",
    "rather than worrying about their implementation.\n",
    "Recall the architecture of a single-layer network\n",
    "as described in :numref:`fig_single_neuron`.\n",
    "The layer is called *fully connected*,\n",
    "since each of its inputs is connected\n",
    "to each of its outputs\n",
    "by means of a matrix--vector multiplication.\n"
   ]
  },
  {
   "cell_type": "code",
   "execution_count": 9,
   "id": "5487b2bb",
   "metadata": {},
   "outputs": [],
   "source": [
    "class LinearRegression(nnx.Module):\n",
    "\tdef __init__(self, *, rngs: nnx.Rngs):\n",
    "\t\tself.net = nnx.Linear(2, 1, rngs=rngs)\n",
    "\t\n",
    "\tdef __call__(self, x: jax.Array):\n",
    "\t\treturn self.net(x)"
   ]
  },
  {
   "cell_type": "code",
   "execution_count": 10,
   "id": "3be7fa3a",
   "metadata": {},
   "outputs": [],
   "source": [
    "model = LinearRegression(rngs=nnx.Rngs(params=0))"
   ]
  },
  {
   "cell_type": "code",
   "execution_count": 11,
   "id": "d99166f1",
   "metadata": {},
   "outputs": [
    {
     "name": "stdout",
     "output_type": "stream",
     "text": [
      "LinearRegression(\n",
      "  net=Linear(\n",
      "    kernel=Param(\n",
      "      value=Array(shape=(2, 1), dtype=float32)\n",
      "    ),\n",
      "    bias=Param(\n",
      "      value=Array([0.], dtype=float32)\n",
      "    ),\n",
      "    in_features=2,\n",
      "    out_features=1,\n",
      "    use_bias=True,\n",
      "    dtype=None,\n",
      "    param_dtype=<class 'jax.numpy.float32'>,\n",
      "    precision=None,\n",
      "    kernel_init=<function variance_scaling.<locals>.init at 0x30b613880>,\n",
      "    bias_init=<function zeros at 0x16bae7b00>,\n",
      "    dot_general=<function dot_general at 0x16b587060>\n",
      "  )\n",
      ")\n"
     ]
    }
   ],
   "source": [
    "nnx.display(model)"
   ]
  },
  {
   "cell_type": "markdown",
   "id": "8ec455c3",
   "metadata": {
    "origin_pos": 15
   },
   "source": [
    "## Defining the Loss Function\n"
   ]
  },
  {
   "cell_type": "code",
   "execution_count": 12,
   "id": "e6cbd214",
   "metadata": {},
   "outputs": [],
   "source": [
    "def loss_fn(model, batch):\n",
    "  x, y = batch\n",
    "  y_hat = model(x)\n",
    "  loss = optax.l2_loss(predictions=y_hat, targets=y).mean()\n",
    "  return loss, y_hat"
   ]
  },
  {
   "cell_type": "markdown",
   "id": "422360e4",
   "metadata": {
    "origin_pos": 21
   },
   "source": [
    "## Defining the Optimization Algorithm\n"
   ]
  },
  {
   "cell_type": "code",
   "execution_count": 13,
   "id": "5be68cf7",
   "metadata": {},
   "outputs": [],
   "source": [
    "optimizer = nnx.Optimizer(model, optax.adam(learning_rate=0.005))"
   ]
  },
  {
   "cell_type": "code",
   "execution_count": 14,
   "id": "fc588f91",
   "metadata": {},
   "outputs": [],
   "source": [
    "metrics = nnx.MultiMetric(\n",
    "  loss=nnx.metrics.Average('loss'))"
   ]
  },
  {
   "cell_type": "markdown",
   "id": "1a422563",
   "metadata": {
    "origin_pos": 26
   },
   "source": [
    "## Training\n"
   ]
  },
  {
   "cell_type": "code",
   "execution_count": 15,
   "id": "db824c83",
   "metadata": {},
   "outputs": [],
   "source": [
    "@nnx.jit\n",
    "def train_step(model, optimizer: nnx.Optimizer, metrics: nnx.MultiMetric, batch):\n",
    "  \"\"\"Train for a single step.\"\"\"\n",
    "  grad_fn = nnx.value_and_grad(loss_fn, has_aux=True)\n",
    "  (loss, _), grads = grad_fn(model, batch)\n",
    "  metrics.update(loss=loss)\n",
    "  optimizer.update(grads)"
   ]
  },
  {
   "cell_type": "code",
   "execution_count": 16,
   "id": "12029c9d",
   "metadata": {},
   "outputs": [],
   "source": [
    "@nnx.jit\n",
    "def eval_step(model, metrics: nnx.MultiMetric, batch):\n",
    "  loss, _ = loss_fn(model, batch)\n",
    "  metrics.update(loss=loss)"
   ]
  },
  {
   "cell_type": "code",
   "execution_count": 20,
   "id": "47724c15",
   "metadata": {},
   "outputs": [
    {
     "name": "stderr",
     "output_type": "stream",
     "text": [
      "2024-10-16 13:13:28.658915: W tensorflow/core/framework/local_rendezvous.cc:404] Local rendezvous is aborting with status: OUT_OF_RANGE: End of sequence\n",
      "2024-10-16 13:13:28.727580: W tensorflow/core/framework/local_rendezvous.cc:404] Local rendezvous is aborting with status: OUT_OF_RANGE: End of sequence\n",
      "2024-10-16 13:13:28.792116: W tensorflow/core/framework/local_rendezvous.cc:404] Local rendezvous is aborting with status: OUT_OF_RANGE: End of sequence\n",
      "2024-10-16 13:13:28.856539: W tensorflow/core/framework/local_rendezvous.cc:404] Local rendezvous is aborting with status: OUT_OF_RANGE: End of sequence\n",
      "2024-10-16 13:13:28.924360: W tensorflow/core/framework/local_rendezvous.cc:404] Local rendezvous is aborting with status: OUT_OF_RANGE: End of sequence\n",
      "2024-10-16 13:13:28.991132: W tensorflow/core/framework/local_rendezvous.cc:404] Local rendezvous is aborting with status: OUT_OF_RANGE: End of sequence\n",
      "2024-10-16 13:13:29.056516: W tensorflow/core/framework/local_rendezvous.cc:404] Local rendezvous is aborting with status: OUT_OF_RANGE: End of sequence\n",
      "2024-10-16 13:13:29.122665: W tensorflow/core/framework/local_rendezvous.cc:404] Local rendezvous is aborting with status: OUT_OF_RANGE: End of sequence\n",
      "2024-10-16 13:13:29.190269: W tensorflow/core/framework/local_rendezvous.cc:404] Local rendezvous is aborting with status: OUT_OF_RANGE: End of sequence\n",
      "2024-10-16 13:13:29.255129: W tensorflow/core/framework/local_rendezvous.cc:404] Local rendezvous is aborting with status: OUT_OF_RANGE: End of sequence\n",
      "2024-10-16 13:13:29.319852: W tensorflow/core/framework/local_rendezvous.cc:404] Local rendezvous is aborting with status: OUT_OF_RANGE: End of sequence\n",
      "2024-10-16 13:13:29.384425: W tensorflow/core/framework/local_rendezvous.cc:404] Local rendezvous is aborting with status: OUT_OF_RANGE: End of sequence\n",
      "2024-10-16 13:13:29.451728: W tensorflow/core/framework/local_rendezvous.cc:404] Local rendezvous is aborting with status: OUT_OF_RANGE: End of sequence\n",
      "2024-10-16 13:13:29.516546: W tensorflow/core/framework/local_rendezvous.cc:404] Local rendezvous is aborting with status: OUT_OF_RANGE: End of sequence\n",
      "2024-10-16 13:13:29.580767: W tensorflow/core/framework/local_rendezvous.cc:404] Local rendezvous is aborting with status: OUT_OF_RANGE: End of sequence\n",
      "2024-10-16 13:13:29.645628: W tensorflow/core/framework/local_rendezvous.cc:404] Local rendezvous is aborting with status: OUT_OF_RANGE: End of sequence\n",
      "2024-10-16 13:13:29.712560: W tensorflow/core/framework/local_rendezvous.cc:404] Local rendezvous is aborting with status: OUT_OF_RANGE: End of sequence\n",
      "2024-10-16 13:13:29.777814: W tensorflow/core/framework/local_rendezvous.cc:404] Local rendezvous is aborting with status: OUT_OF_RANGE: End of sequence\n",
      "2024-10-16 13:13:29.842411: W tensorflow/core/framework/local_rendezvous.cc:404] Local rendezvous is aborting with status: OUT_OF_RANGE: End of sequence\n",
      "2024-10-16 13:13:29.905381: W tensorflow/core/framework/local_rendezvous.cc:404] Local rendezvous is aborting with status: OUT_OF_RANGE: End of sequence\n"
     ]
    }
   ],
   "source": [
    "metrics_history = {\n",
    "  'train_loss': [],\n",
    "  'test_loss': [],\n",
    "}\n",
    "\n",
    "for step, batch in enumerate(train_data.as_numpy_iterator()):\n",
    "  train_step(model, optimizer, metrics, batch)\n",
    "  \n",
    "  if step > 0 and (step % eval_every == 0): \n",
    "    for metric, value in metrics.compute().items():\n",
    "      metrics_history[f'train_{metric}'].append(value)\n",
    "    metrics.reset()\n",
    "\n",
    "    for test_batch in test_data.as_numpy_iterator():\n",
    "      eval_step(model, metrics, test_batch)\n",
    "\n",
    "    for metric, value in metrics.compute().items():\n",
    "      metrics_history[f'test_{metric}'].append(value)\n",
    "    metrics.reset()"
   ]
  },
  {
   "cell_type": "code",
   "execution_count": 21,
   "id": "25aa75c6",
   "metadata": {},
   "outputs": [
    {
     "data": {
      "image/png": "[encoded data removed]",
      "text/plain": [
       "<Figure size 600x500 with 1 Axes>"
      ]
     },
     "metadata": {},
     "output_type": "display_data"
    }
   ],
   "source": [
    "fig, ax1 = plt.subplots(1, 1, figsize=(6, 5))\n",
    "ax1.set_title('Loss')\n",
    "for dataset in ('train', 'test'):\n",
    "  ax1.plot(metrics_history[f'{dataset}_loss'], label=f'{dataset}_loss')\n",
    "ax1.legend()\n",
    "plt.show()"
   ]
  },
  {
   "cell_type": "code",
   "execution_count": 26,
   "id": "16ccc44c",
   "metadata": {},
   "outputs": [
    {
     "data": {
      "text/plain": [
       "(Param(\n",
       "   value=Array([[ 1.9999983],\n",
       "          [-3.3948512]], dtype=float32)\n",
       " ),\n",
       " Param(\n",
       "   value=Array([4.1773686], dtype=float32)\n",
       " ))"
      ]
     },
     "execution_count": 26,
     "metadata": {},
     "output_type": "execute_result"
    }
   ],
   "source": [
    "# w=[2, -3.4], b=4.2\n",
    "model.net.kernel, model.net.bias"
   ]
  },
  {
   "cell_type": "markdown",
   "id": "74b2e2eb",
   "metadata": {
    "origin_pos": 32
   },
   "source": [
    "## Summary\n",
    "\n",
    "This section contains the first\n",
    "implementation of a deep network (in this book)\n",
    "to tap into the conveniences afforded\n",
    "by modern deep learning frameworks,\n",
    "such as MXNet :cite:`Chen.Li.Li.ea.2015`, \n",
    "JAX :cite:`Frostig.Johnson.Leary.2018`, \n",
    "PyTorch :cite:`Paszke.Gross.Massa.ea.2019`, \n",
    "and Tensorflow :cite:`Abadi.Barham.Chen.ea.2016`.\n",
    "We used framework defaults for loading data, defining a layer,\n",
    "a loss function, an optimizer and a training loop.\n",
    "Whenever the framework provides all necessary features,\n",
    "it is generally a good idea to use them,\n",
    "since the library implementations of these components\n",
    "tend to be heavily optimized for performance\n",
    "and properly tested for reliability.\n",
    "At the same time, try not to forget\n",
    "that these modules *can* be implemented directly.\n",
    "This is especially important for aspiring researchers\n",
    "who wish to live on the leading edge of model development,\n",
    "where you will be inventing new components\n",
    "that cannot possibly exist in any current library.\n"
   ]
  }
 ],
 "metadata": {
  "kernelspec": {
   "display_name": "dl",
   "language": "python",
   "name": "python3"
  },
  "language_info": {
   "codemirror_mode": {
    "name": "ipython",
    "version": 3
   },
   "file_extension": ".py",
   "mimetype": "text/x-python",
   "name": "python",
   "nbconvert_exporter": "python",
   "pygments_lexer": "ipython3",
   "version": "3.12.7"
  },
  "required_libs": []
 },
 "nbformat": 4,
 "nbformat_minor": 5
}
