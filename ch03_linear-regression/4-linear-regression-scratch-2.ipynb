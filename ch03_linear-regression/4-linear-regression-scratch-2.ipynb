{
 "cells": [
  {
   "cell_type": "markdown",
   "id": "1d5ffe8b",
   "metadata": {
    "origin_pos": 1
   },
   "source": [
    "# Linear Regression Implementation from Scratch\n",
    ":label:`sec_linear_scratch`\n",
    "\n",
    "We are now ready to work through \n",
    "a fully functioning implementation \n",
    "of linear regression. \n",
    "In this section, \n",
    "(**we will implement the entire method from scratch,\n",
    "including (i) the model; (ii) the loss function;\n",
    "(iii) a minibatch stochastic gradient descent optimizer;\n",
    "and (iv) the training function \n",
    "that stitches all of these pieces together.**)\n",
    "Finally, we will run our synthetic data generator\n",
    "from :numref:`sec_synthetic-regression-data`\n",
    "and apply our model\n",
    "on the resulting dataset. \n",
    "While modern deep learning frameworks \n",
    "can automate nearly all of this work,\n",
    "implementing things from scratch is the only way\n",
    "to make sure that you really know what you are doing.\n",
    "Moreover, when it is time to customize models,\n",
    "defining our own layers or loss functions,\n",
    "understanding how things work under the hood will prove handy.\n",
    "In this section, we will rely only \n",
    "on tensors and automatic differentiation.\n",
    "Later, we will introduce a more concise implementation,\n",
    "taking advantage of the bells and whistles of deep learning frameworks \n",
    "while retaining the structure of what follows below.\n"
   ]
  },
  {
   "cell_type": "code",
   "execution_count": 87,
   "id": "8aa8609f",
   "metadata": {},
   "outputs": [],
   "source": [
    "import matplotlib.pyplot as plt\n",
    "import tensorflow as tf\n",
    "from tensorflow_probability.substrates import jax as tfp\n",
    "import jax\n",
    "import jax.numpy as jnp\n",
    "import optax\n",
    "from flax import nnx\n",
    "\n",
    "tfd = tfp.distributions\n",
    "key = tfp.util.SeedStream(2024, salt=\"regression\")"
   ]
  },
  {
   "cell_type": "code",
   "execution_count": 88,
   "id": "67f381a9",
   "metadata": {},
   "outputs": [],
   "source": [
    "eval_every = 100\n",
    "batch_size = 250"
   ]
  },
  {
   "cell_type": "code",
   "execution_count": 89,
   "id": "56290442",
   "metadata": {},
   "outputs": [],
   "source": [
    "# generate synthetic regression data\n",
    "def gen_reg_data(w, b, seed, noise=0.01, n=500):\n",
    "\tkey = tfp.util.SeedStream(seed, salt=\"gen_reg_data\")\n",
    "\tnormal = tfd.Normal(loc=0.0, scale=1.0)\n",
    "\tX = normal.sample((n, w.shape[0]), seed=key())\n",
    "\tnoise = normal.sample((n, 1), seed=key()) * noise\n",
    "\treturn X, jnp.matmul(X, jnp.reshape(w, (-1, 1))) + b + noise"
   ]
  },
  {
   "cell_type": "code",
   "execution_count": 90,
   "id": "777ad2a2",
   "metadata": {},
   "outputs": [
    {
     "data": {
      "text/plain": [
       "(array([[2.0007281, 3.4003763]], dtype=float32),\n",
       " array([4.199874], dtype=float32))"
      ]
     },
     "execution_count": 90,
     "metadata": {},
     "output_type": "execute_result"
    }
   ],
   "source": [
    "# checking...\n",
    "from sklearn.linear_model import LinearRegression\n",
    "\n",
    "xx, yy = gen_reg_data(w=jnp.array([2, 3.4]), b=4.2, n=500, seed=714)\n",
    "\n",
    "reg = LinearRegression()\n",
    "reg1 = reg.fit(xx, yy)\n",
    "reg1.coef_, reg1.intercept_"
   ]
  },
  {
   "cell_type": "code",
   "execution_count": 91,
   "id": "f336379f",
   "metadata": {},
   "outputs": [],
   "source": [
    "train_data = gen_reg_data(w=jnp.array([2, 3.4]), b=4.2, n=500, seed=714)\n",
    "train_data = tf.data.Dataset.from_tensor_slices(train_data).repeat(1000).shuffle(200)\n",
    "train_data = train_data.batch(batch_size=batch_size, drop_remainder=True).prefetch(1)"
   ]
  },
  {
   "cell_type": "code",
   "execution_count": 92,
   "id": "7b834bb0",
   "metadata": {},
   "outputs": [
    {
     "data": {
      "text/plain": [
       "<tf.Tensor: shape=(), dtype=int64, numpy=2000>"
      ]
     },
     "execution_count": 92,
     "metadata": {},
     "output_type": "execute_result"
    }
   ],
   "source": [
    "tf.data.experimental.cardinality(train_data)"
   ]
  },
  {
   "cell_type": "code",
   "execution_count": 93,
   "id": "ad6fa507",
   "metadata": {},
   "outputs": [],
   "source": [
    "test_data = gen_reg_data(w=jnp.array([2, 3.4]), b=4.2, n=250, seed=714)\n",
    "test_data = tf.data.Dataset.from_tensor_slices(test_data)\n",
    "test_data = test_data.batch(batch_size=batch_size, drop_remainder=True).prefetch(1)"
   ]
  },
  {
   "cell_type": "markdown",
   "id": "ac33a122",
   "metadata": {
    "origin_pos": 6
   },
   "source": [
    "## Defining the Model"
   ]
  },
  {
   "cell_type": "code",
   "execution_count": 94,
   "id": "3605782d",
   "metadata": {},
   "outputs": [],
   "source": [
    "class LinearRegression(nnx.Module):\n",
    "\tdef __init__(self, din: int, dout: int, *, rngs: nnx.Rngs):\n",
    "\t\tkey = rngs.params()\n",
    "\t\tself.w = nnx.Param(jax.random.uniform(key, (din, dout)))\n",
    "\t\tself.b = nnx.Param(jnp.zeros((dout,)))\n",
    "\t\tself.din, self.dout = din, dout\n",
    "\t\n",
    "\tdef __call__(self, x: jax.Array):\n",
    "\t\treturn x @ self.w + self.b"
   ]
  },
  {
   "cell_type": "code",
   "execution_count": 95,
   "id": "268f2dff",
   "metadata": {},
   "outputs": [],
   "source": [
    "model = LinearRegression(din=2, dout=1, rngs=nnx.Rngs(params=0))"
   ]
  },
  {
   "cell_type": "code",
   "execution_count": 96,
   "id": "48c8dd2e",
   "metadata": {},
   "outputs": [
    {
     "data": {
      "text/plain": [
       "Array([[0.8078517],\n",
       "       [0.8078517],\n",
       "       [0.8078517]], dtype=float32)"
      ]
     },
     "execution_count": 96,
     "metadata": {},
     "output_type": "execute_result"
    }
   ],
   "source": [
    "y = model(x=jnp.ones((3, 2)))\n",
    "y"
   ]
  },
  {
   "cell_type": "code",
   "execution_count": 97,
   "id": "7991f813",
   "metadata": {},
   "outputs": [
    {
     "name": "stdout",
     "output_type": "stream",
     "text": [
      "LinearRegression(\n",
      "  w=Param(\n",
      "    value=Array(shape=(2, 1), dtype=float32)\n",
      "  ),\n",
      "  b=Param(\n",
      "    value=Array([0.], dtype=float32)\n",
      "  ),\n",
      "  din=2,\n",
      "  dout=1\n",
      ")\n"
     ]
    }
   ],
   "source": [
    "nnx.display(model)"
   ]
  },
  {
   "cell_type": "markdown",
   "id": "bbac5284",
   "metadata": {
    "origin_pos": 11
   },
   "source": [
    "## Defining the Loss Function\n",
    "\n",
    "Since [**updating our model requires taking\n",
    "the gradient of our loss function,**]\n",
    "we ought to (**define the loss function first.**)\n",
    "Here we use the squared loss function\n",
    "in :eqref:`eq_mse`.\n",
    "In the implementation, we need to transform the true value `y`\n",
    "into the predicted value's shape `y_hat`.\n",
    "The result returned by the following method\n",
    "will also have the same shape as `y_hat`. \n",
    "We also return the averaged loss value\n",
    "among all examples in the minibatch.\n"
   ]
  },
  {
   "cell_type": "code",
   "execution_count": 98,
   "id": "1f3127b1",
   "metadata": {},
   "outputs": [],
   "source": [
    "def loss_fn(model, batch):\n",
    "  x, y = batch\n",
    "  y_hat = model(x)\n",
    "  loss = optax.l2_loss(predictions=y_hat, targets=y).mean()\n",
    "  return loss, y_hat"
   ]
  },
  {
   "cell_type": "markdown",
   "id": "72ea1619",
   "metadata": {
    "origin_pos": 14
   },
   "source": [
    "## Defining the Optimization Algorithm"
   ]
  },
  {
   "cell_type": "code",
   "execution_count": 99,
   "id": "87fd0464",
   "metadata": {},
   "outputs": [
    {
     "name": "stdout",
     "output_type": "stream",
     "text": [
      "Optimizer(\n",
      "  step=OptState(\n",
      "    value=Array(0, dtype=uint32)\n",
      "  ),\n",
      "  model=LinearRegression(\n",
      "    w=Param(\n",
      "      value=Array(shape=(2, 1), dtype=float32)\n",
      "    ),\n",
      "    b=Param(\n",
      "      value=Array([0.], dtype=float32)\n",
      "    ),\n",
      "    din=2,\n",
      "    dout=1\n",
      "  ),\n",
      "  tx=GradientTransformationExtraArgs(init=<function chain.<locals>.init_fn at 0x34942d120>, update=<function chain.<locals>.update_fn at 0x34942d080>),\n",
      "  opt_state=(ScaleByAdamState(count=Array(0, dtype=int32), mu=State({\n",
      "    'b': VariableState(\n",
      "      type=Param,\n",
      "      value=Array([0.], dtype=float32)\n",
      "    ),\n",
      "    'w': VariableState(\n",
      "      type=Param,\n",
      "      value=Array(shape=(2, 1), dtype=float32)\n",
      "    )\n",
      "  }), nu=State({\n",
      "    'b': VariableState(\n",
      "      type=Param,\n",
      "      value=Array([0.], dtype=float32)\n",
      "    ),\n",
      "    'w': VariableState(\n",
      "      type=Param,\n",
      "      value=Array(shape=(2, 1), dtype=float32)\n",
      "    )\n",
      "  })), EmptyState()),\n",
      "  wrt=<class 'flax.nnx.nnx.variables.Param'>\n",
      ")\n"
     ]
    }
   ],
   "source": [
    "optimizer = nnx.Optimizer(model, optax.adam(learning_rate=0.005))\n",
    "nnx.display(optimizer)"
   ]
  },
  {
   "cell_type": "code",
   "execution_count": 100,
   "id": "3a7bd10c",
   "metadata": {},
   "outputs": [],
   "source": [
    "metrics = nnx.MultiMetric(\n",
    "  loss=nnx.metrics.Average('loss'))"
   ]
  },
  {
   "cell_type": "markdown",
   "id": "e6025ab3",
   "metadata": {
    "origin_pos": 23
   },
   "source": [
    "## Training"
   ]
  },
  {
   "cell_type": "code",
   "execution_count": 101,
   "id": "c6e1339a",
   "metadata": {},
   "outputs": [],
   "source": [
    "@nnx.jit\n",
    "def train_step(model, optimizer: nnx.Optimizer, metrics: nnx.MultiMetric, batch):\n",
    "  \"\"\"Train for a single step.\"\"\"\n",
    "  grad_fn = nnx.value_and_grad(loss_fn, has_aux=True)\n",
    "  (loss, y_hat), grads = grad_fn(model, batch)\n",
    "  metrics.update(loss=loss)\n",
    "  optimizer.update(grads)"
   ]
  },
  {
   "cell_type": "code",
   "execution_count": 102,
   "id": "0baca19b",
   "metadata": {},
   "outputs": [],
   "source": [
    "@nnx.jit\n",
    "def eval_step(model, metrics: nnx.MultiMetric, batch):\n",
    "  loss, _ = loss_fn(model, batch)\n",
    "  metrics.update(loss=loss)"
   ]
  },
  {
   "cell_type": "code",
   "execution_count": 103,
   "id": "7fbc4861",
   "metadata": {},
   "outputs": [
    {
     "name": "stderr",
     "output_type": "stream",
     "text": [
      "2024-10-14 07:55:51.558431: W tensorflow/core/framework/local_rendezvous.cc:404] Local rendezvous is aborting with status: OUT_OF_RANGE: End of sequence\n",
      "2024-10-14 07:55:51.620116: W tensorflow/core/framework/local_rendezvous.cc:404] Local rendezvous is aborting with status: OUT_OF_RANGE: End of sequence\n",
      "2024-10-14 07:55:51.678434: W tensorflow/core/framework/local_rendezvous.cc:404] Local rendezvous is aborting with status: OUT_OF_RANGE: End of sequence\n",
      "2024-10-14 07:55:51.734739: W tensorflow/core/framework/local_rendezvous.cc:404] Local rendezvous is aborting with status: OUT_OF_RANGE: End of sequence\n",
      "2024-10-14 07:55:51.792298: W tensorflow/core/framework/local_rendezvous.cc:404] Local rendezvous is aborting with status: OUT_OF_RANGE: End of sequence\n",
      "2024-10-14 07:55:51.849151: W tensorflow/core/framework/local_rendezvous.cc:404] Local rendezvous is aborting with status: OUT_OF_RANGE: End of sequence\n",
      "2024-10-14 07:55:51.909937: W tensorflow/core/framework/local_rendezvous.cc:404] Local rendezvous is aborting with status: OUT_OF_RANGE: End of sequence\n",
      "2024-10-14 07:55:51.965439: W tensorflow/core/framework/local_rendezvous.cc:404] Local rendezvous is aborting with status: OUT_OF_RANGE: End of sequence\n",
      "2024-10-14 07:55:52.022816: W tensorflow/core/framework/local_rendezvous.cc:404] Local rendezvous is aborting with status: OUT_OF_RANGE: End of sequence\n",
      "2024-10-14 07:55:52.078979: W tensorflow/core/framework/local_rendezvous.cc:404] Local rendezvous is aborting with status: OUT_OF_RANGE: End of sequence\n",
      "2024-10-14 07:55:52.135163: W tensorflow/core/framework/local_rendezvous.cc:404] Local rendezvous is aborting with status: OUT_OF_RANGE: End of sequence\n",
      "2024-10-14 07:55:52.190213: W tensorflow/core/framework/local_rendezvous.cc:404] Local rendezvous is aborting with status: OUT_OF_RANGE: End of sequence\n",
      "2024-10-14 07:55:52.246916: W tensorflow/core/framework/local_rendezvous.cc:404] Local rendezvous is aborting with status: OUT_OF_RANGE: End of sequence\n",
      "2024-10-14 07:55:52.303833: W tensorflow/core/framework/local_rendezvous.cc:404] Local rendezvous is aborting with status: OUT_OF_RANGE: End of sequence\n",
      "2024-10-14 07:55:52.359204: W tensorflow/core/framework/local_rendezvous.cc:404] Local rendezvous is aborting with status: OUT_OF_RANGE: End of sequence\n",
      "2024-10-14 07:55:52.414748: W tensorflow/core/framework/local_rendezvous.cc:404] Local rendezvous is aborting with status: OUT_OF_RANGE: End of sequence\n",
      "2024-10-14 07:55:52.472321: W tensorflow/core/framework/local_rendezvous.cc:404] Local rendezvous is aborting with status: OUT_OF_RANGE: End of sequence\n",
      "2024-10-14 07:55:52.528091: W tensorflow/core/framework/local_rendezvous.cc:404] Local rendezvous is aborting with status: OUT_OF_RANGE: End of sequence\n",
      "2024-10-14 07:55:52.583434: W tensorflow/core/framework/local_rendezvous.cc:404] Local rendezvous is aborting with status: OUT_OF_RANGE: End of sequence\n",
      "2024-10-14 07:55:52.638926: W tensorflow/core/framework/local_rendezvous.cc:404] Local rendezvous is aborting with status: OUT_OF_RANGE: End of sequence\n"
     ]
    }
   ],
   "source": [
    "metrics_history = {\n",
    "  'train_loss': [],\n",
    "  'test_loss': [],\n",
    "}\n",
    "\n",
    "for step, batch in enumerate(train_data.as_numpy_iterator()):\n",
    "  # Run the optimization for one step and make a stateful update to the following:\n",
    "  # - The train state's model parameters\n",
    "  # - The optimizer state\n",
    "  # - The training loss and accuracy batch metrics\n",
    "  train_step(model, optimizer, metrics, batch)\n",
    "  \n",
    "\t# One training epoch has passed.\n",
    "  if step > 0 and (step % eval_every == 0): \n",
    "    # Log the training metrics.\n",
    "    for metric, value in metrics.compute().items():\n",
    "      metrics_history[f'train_{metric}'].append(value)\n",
    "    metrics.reset()  # Reset the metrics for the test set.\n",
    "\n",
    "    # Compute the metrics on the test set after each training epoch.\n",
    "    for test_batch in test_data.as_numpy_iterator():\n",
    "      eval_step(model, metrics, test_batch)\n",
    "\n",
    "    # Log the test metrics.\n",
    "    for metric, value in metrics.compute().items():\n",
    "      metrics_history[f'test_{metric}'].append(value)\n",
    "    metrics.reset()  # Reset the metrics for the next training epoch."
   ]
  },
  {
   "cell_type": "code",
   "execution_count": 104,
   "id": "0b890ddd",
   "metadata": {},
   "outputs": [
    {
     "data": {
      "image/png": "[encoded data removed]",
      "text/plain": [
       "<Figure size 600x500 with 1 Axes>"
      ]
     },
     "metadata": {},
     "output_type": "display_data"
    }
   ],
   "source": [
    "fig, ax1 = plt.subplots(1, 1, figsize=(6, 5))\n",
    "ax1.set_title('Loss')\n",
    "for dataset in ('train', 'test'):\n",
    "  ax1.plot(metrics_history[f'{dataset}_loss'], label=f'{dataset}_loss')\n",
    "ax1.legend()\n",
    "plt.show()"
   ]
  },
  {
   "cell_type": "code",
   "execution_count": 105,
   "id": "03ead4be",
   "metadata": {},
   "outputs": [
    {
     "data": {
      "text/plain": [
       "(Param(\n",
       "   value=Array([[2.0001075],\n",
       "          [3.4033806]], dtype=float32)\n",
       " ),\n",
       " Param(\n",
       "   value=Array([4.1711726], dtype=float32)\n",
       " ))"
      ]
     },
     "execution_count": 105,
     "metadata": {},
     "output_type": "execute_result"
    }
   ],
   "source": [
    "# w=[2, 3.4], b=4.2\n",
    "model.w, model.b"
   ]
  },
  {
   "cell_type": "markdown",
   "id": "5c7a26c4",
   "metadata": {
    "origin_pos": 35
   },
   "source": [
    "We should not take the ability to exactly recover \n",
    "the ground truth parameters for granted.\n",
    "In general, for deep models unique solutions\n",
    "for the parameters do not exist,\n",
    "and even for linear models,\n",
    "exactly recovering the parameters\n",
    "is only possible when no feature \n",
    "is linearly dependent on the others.\n",
    "However, in machine learning, \n",
    "we are often less concerned\n",
    "with recovering true underlying parameters,\n",
    "but rather with parameters \n",
    "that lead to highly accurate prediction :cite:`Vapnik.1992`.\n",
    "Fortunately, even on difficult optimization problems,\n",
    "stochastic gradient descent can often find remarkably good solutions,\n",
    "owing partly to the fact that, for deep networks,\n",
    "there exist many configurations of the parameters\n",
    "that lead to highly accurate prediction.\n",
    "\n",
    "\n",
    "## Summary\n",
    "\n",
    "In this section, we took a significant step \n",
    "towards designing deep learning systems \n",
    "by implementing a fully functional \n",
    "neural network model and training loop.\n",
    "In this process, we built a data loader, \n",
    "a model, a loss function, an optimization procedure,\n",
    "and a visualization and monitoring tool. \n",
    "We did this by composing a Python object \n",
    "that contains all relevant components for training a model. \n",
    "While this is not yet a professional-grade implementation\n",
    "it is perfectly functional and code like this \n",
    "could already help you to solve small problems quickly.\n",
    "In the coming sections, we will see how to do this\n",
    "both *more concisely* (avoiding boilerplate code)\n",
    "and *more efficiently* (using our GPUs to their full potential).\n",
    "\n",
    "\n",
    "\n",
    "## Exercises\n",
    "\n",
    "1. What would happen if we were to initialize the weights to zero. Would the algorithm still work? What if we\n",
    "   initialized the parameters with variance $1000$ rather than $0.01$?\n",
    "1. Assume that you are [Georg Simon Ohm](https://en.wikipedia.org/wiki/Georg_Ohm) trying to come up\n",
    "   with a model for resistance that relates voltage and current. Can you use automatic\n",
    "   differentiation to learn the parameters of your model?\n",
    "1. Can you use [Planck's Law](https://en.wikipedia.org/wiki/Planck%27s_law) to determine the temperature of an object\n",
    "   using spectral energy density? For reference, the spectral density $B$ of radiation emanating from a black body is\n",
    "   $B(\\lambda, T) = \\frac{2 hc^2}{\\lambda^5} \\cdot \\left(\\exp \\frac{h c}{\\lambda k T} - 1\\right)^{-1}$. Here\n",
    "   $\\lambda$ is the wavelength, $T$ is the temperature, $c$ is the speed of light, $h$ is Planck's constant, and $k$ is the\n",
    "   Boltzmann constant. You measure the energy for different wavelengths $\\lambda$ and you now need to fit the spectral\n",
    "   density curve to Planck's law.\n",
    "1. What are the problems you might encounter if you wanted to compute the second derivatives of the loss? How would\n",
    "   you fix them?\n",
    "1. Why is the `reshape` method needed in the `loss` function?\n",
    "1. Experiment using different learning rates to find out how quickly the loss function value drops. Can you reduce the\n",
    "   error by increasing the number of epochs of training?\n",
    "1. If the number of examples cannot be divided by the batch size, what happens to `data_iter` at the end of an epoch?\n",
    "1. Try implementing a different loss function, such as the absolute value loss `(y_hat - d2l.reshape(y, y_hat.shape)).abs().sum()`.\n",
    "    1. Check what happens for regular data.\n",
    "    1. Check whether there is a difference in behavior if you actively perturb some entries, such as $y_5 = 10000$, of $\\mathbf{y}$.\n",
    "    1. Can you think of a cheap solution for combining the best aspects of squared loss and absolute value loss?\n",
    "       Hint: how can you avoid really large gradient values?\n",
    "1. Why do we need to reshuffle the dataset? Can you design a case where a maliciously constructed dataset would break the optimization algorithm otherwise?\n"
   ]
  },
  {
   "cell_type": "markdown",
   "id": "335ec424",
   "metadata": {
    "origin_pos": 39,
    "tab": [
     "jax"
    ]
   },
   "source": [
    "[Discussions](https://discuss.d2l.ai/t/17976)\n"
   ]
  }
 ],
 "metadata": {
  "kernelspec": {
   "display_name": "d2l",
   "language": "python",
   "name": "python3"
  },
  "language_info": {
   "codemirror_mode": {
    "name": "ipython",
    "version": 3
   },
   "file_extension": ".py",
   "mimetype": "text/x-python",
   "name": "python",
   "nbconvert_exporter": "python",
   "pygments_lexer": "ipython3",
   "version": "3.12.7"
  },
  "required_libs": []
 },
 "nbformat": 4,
 "nbformat_minor": 5
}
