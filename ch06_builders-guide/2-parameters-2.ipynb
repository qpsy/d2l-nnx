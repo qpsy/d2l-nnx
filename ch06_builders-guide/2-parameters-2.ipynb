{
 "cells": [
  {
   "cell_type": "markdown",
   "id": "8d2d9a65",
   "metadata": {
    "origin_pos": 1
   },
   "source": [
    "# Parameter Management\n",
    "\n",
    "Once we have chosen an architecture\n",
    "and set our hyperparameters,\n",
    "we proceed to the training loop,\n",
    "where our goal is to find parameter values\n",
    "that minimize our loss function.\n",
    "After training, we will need these parameters\n",
    "in order to make future predictions.\n",
    "Additionally, we will sometimes wish\n",
    "to extract the parameters\n",
    "perhaps to reuse them in some other context,\n",
    "to save our model to disk so that\n",
    "it may be executed in other software,\n",
    "or for examination in the hope of\n",
    "gaining scientific understanding.\n",
    "\n",
    "Most of the time, we will be able\n",
    "to ignore the nitty-gritty details\n",
    "of how parameters are declared\n",
    "and manipulated, relying on deep learning frameworks\n",
    "to do the heavy lifting.\n",
    "However, when we move away from\n",
    "stacked architectures with standard layers,\n",
    "we will sometimes need to get into the weeds\n",
    "of declaring and manipulating parameters.\n",
    "In this section, we cover the following:\n",
    "\n",
    "* Accessing parameters for debugging, diagnostics, and visualizations.\n",
    "* Sharing parameters across different model components.\n"
   ]
  },
  {
   "cell_type": "code",
   "execution_count": 1,
   "id": "c0c5fba4",
   "metadata": {
    "execution": {
     "iopub.execute_input": "2023-08-18T19:43:32.992762Z",
     "iopub.status.busy": "2023-08-18T19:43:32.992501Z",
     "iopub.status.idle": "2023-08-18T19:43:40.772332Z",
     "shell.execute_reply": "2023-08-18T19:43:40.771394Z"
    },
    "origin_pos": 5,
    "tab": [
     "jax"
    ]
   },
   "outputs": [],
   "source": [
    "import jax\n",
    "from jax import numpy as jnp\n",
    "from flax import nnx"
   ]
  },
  {
   "cell_type": "markdown",
   "id": "7111df8c",
   "metadata": {
    "origin_pos": 6
   },
   "source": [
    "(**We start by focusing on an MLP with one hidden layer.**)\n"
   ]
  },
  {
   "cell_type": "code",
   "execution_count": 2,
   "id": "5fc760ce",
   "metadata": {},
   "outputs": [],
   "source": [
    "class Net(nnx.Module):\n",
    "\tdef __init__(self, n_inputs: int, n_hiddens: int, n_outputs: int, *, rngs: nnx.Rngs):\n",
    "\t\tself.net1 = nnx.Linear(n_inputs, n_hiddens, rngs=rngs)\n",
    "\t\tself.net2 = nnx.Linear(n_hiddens, n_outputs, rngs=rngs)\n",
    "\t\n",
    "\tdef __call__(self, x: jax.Array):\n",
    "\t\tx = self.net1(x)\n",
    "\t\treturn self.net2(nnx.relu(x))"
   ]
  },
  {
   "cell_type": "code",
   "execution_count": 4,
   "id": "44891c18",
   "metadata": {},
   "outputs": [],
   "source": [
    "net = Net(4, 8, 1, rngs=nnx.Rngs(params=0))"
   ]
  },
  {
   "cell_type": "code",
   "execution_count": 6,
   "id": "4a4bc037",
   "metadata": {},
   "outputs": [
    {
     "data": {
      "text/plain": [
       "Array([[-0.03695716],\n",
       "       [-0.0799413 ]], dtype=float32)"
      ]
     },
     "execution_count": 6,
     "metadata": {},
     "output_type": "execute_result"
    }
   ],
   "source": [
    "x = jax.random.uniform(jax.random.key(1300), (2, 4))\n",
    "net(x)"
   ]
  },
  {
   "cell_type": "markdown",
   "id": "ec99d6fd",
   "metadata": {
    "origin_pos": 11
   },
   "source": [
    "## [**Parameter Access**]\n",
    ":label:`subsec_param-access`\n",
    "\n",
    "Let's start with how to access parameters\n",
    "from the models that you already know.\n"
   ]
  },
  {
   "cell_type": "markdown",
   "id": "a4adbb92",
   "metadata": {
    "origin_pos": 14
   },
   "source": [
    "We can inspect the parameters of the second fully connected layer as follows.\n"
   ]
  },
  {
   "cell_type": "code",
   "execution_count": 18,
   "id": "876f95c3",
   "metadata": {},
   "outputs": [],
   "source": [
    "graphdef, params = nnx.split(net, nnx.Param)"
   ]
  },
  {
   "cell_type": "code",
   "execution_count": 21,
   "id": "c301e050",
   "metadata": {},
   "outputs": [
    {
     "data": {
      "text/plain": [
       "State({\n",
       "  'bias': VariableState(\n",
       "    type=Param,\n",
       "    value=Array([0.], dtype=float32)\n",
       "  ),\n",
       "  'kernel': VariableState(\n",
       "    type=Param,\n",
       "    value=Array([[ 0.00311489],\n",
       "           [-0.13639002],\n",
       "           [ 0.75477993],\n",
       "           [ 0.49593627],\n",
       "           [-0.39758068],\n",
       "           [-0.5204415 ],\n",
       "           [-0.04960723],\n",
       "           [-0.48217064]], dtype=float32)\n",
       "  )\n",
       "})"
      ]
     },
     "execution_count": 21,
     "metadata": {},
     "output_type": "execute_result"
    }
   ],
   "source": [
    "params['net2']"
   ]
  },
  {
   "cell_type": "markdown",
   "id": "a74e42c5",
   "metadata": {
    "origin_pos": 19
   },
   "source": [
    "We can see that this fully connected layer\n",
    "contains two parameters,\n",
    "corresponding to that layer's\n",
    "weights and biases, respectively.\n",
    "\n",
    "\n",
    "### [**Targeted Parameters**]\n",
    "\n",
    "Note that each parameter is represented\n",
    "as an instance of the parameter class.\n",
    "To do anything useful with the parameters,\n",
    "we first need to access the underlying numerical values.\n",
    "There are several ways to do this.\n",
    "Some are simpler while others are more general.\n",
    "The following code extracts the bias\n",
    "from the second neural network layer, which returns a parameter class instance, and\n",
    "further accesses that parameter's value.\n"
   ]
  },
  {
   "cell_type": "code",
   "execution_count": 22,
   "id": "2149efca",
   "metadata": {},
   "outputs": [
    {
     "data": {
      "text/plain": [
       "VariableState(\n",
       "  type=Param,\n",
       "  value=Array([0.], dtype=float32)\n",
       ")"
      ]
     },
     "execution_count": 22,
     "metadata": {},
     "output_type": "execute_result"
    }
   ],
   "source": [
    "params['net2']['bias']"
   ]
  },
  {
   "cell_type": "code",
   "execution_count": 23,
   "id": "b81f63e4",
   "metadata": {
    "execution": {
     "iopub.execute_input": "2023-08-18T19:43:41.613329Z",
     "iopub.status.busy": "2023-08-18T19:43:41.612776Z",
     "iopub.status.idle": "2023-08-18T19:43:41.618777Z",
     "shell.execute_reply": "2023-08-18T19:43:41.617896Z"
    },
    "origin_pos": 23,
    "tab": [
     "jax"
    ]
   },
   "outputs": [
    {
     "data": {
      "text/plain": [
       "(flax.nnx.nnx.variables.VariableState,\n",
       " VariableState(\n",
       "   type=Param,\n",
       "   value=Array([0.], dtype=float32)\n",
       " ))"
      ]
     },
     "execution_count": 23,
     "metadata": {},
     "output_type": "execute_result"
    }
   ],
   "source": [
    "bias = params['net2']['bias']\n",
    "type(bias), bias"
   ]
  },
  {
   "cell_type": "markdown",
   "id": "c8448ac8",
   "metadata": {
    "origin_pos": 28
   },
   "source": [
    "### [**All Parameters at Once**]\n",
    "\n",
    "When we need to perform operations on all parameters,\n",
    "accessing them one-by-one can grow tedious.\n",
    "The situation can grow especially unwieldy\n",
    "when we work with more complex, e.g., nested, modules,\n",
    "since we would need to recurse\n",
    "through the entire tree to extract\n",
    "each sub-module's parameters. Below we demonstrate accessing the parameters of all layers.\n"
   ]
  },
  {
   "cell_type": "code",
   "execution_count": 24,
   "id": "a4614db8",
   "metadata": {
    "execution": {
     "iopub.execute_input": "2023-08-18T19:43:41.622058Z",
     "iopub.status.busy": "2023-08-18T19:43:41.621537Z",
     "iopub.status.idle": "2023-08-18T19:43:41.627457Z",
     "shell.execute_reply": "2023-08-18T19:43:41.626628Z"
    },
    "origin_pos": 32,
    "tab": [
     "jax"
    ]
   },
   "outputs": [
    {
     "data": {
      "text/plain": [
       "State({\n",
       "  'net1': {\n",
       "    'bias': VariableState(\n",
       "      type=Param,\n",
       "      value=(8,)\n",
       "    ),\n",
       "    'kernel': VariableState(\n",
       "      type=Param,\n",
       "      value=(4, 8)\n",
       "    )\n",
       "  },\n",
       "  'net2': {\n",
       "    'bias': VariableState(\n",
       "      type=Param,\n",
       "      value=(1,)\n",
       "    ),\n",
       "    'kernel': VariableState(\n",
       "      type=Param,\n",
       "      value=(8, 1)\n",
       "    )\n",
       "  }\n",
       "})"
      ]
     },
     "execution_count": 24,
     "metadata": {},
     "output_type": "execute_result"
    }
   ],
   "source": [
    "jax.tree_util.tree_map(lambda x: x.shape, params)"
   ]
  },
  {
   "cell_type": "markdown",
   "id": "e0b467fa",
   "metadata": {
    "origin_pos": 33
   },
   "source": [
    "## [**Tied Parameters**]\n",
    "\n",
    "Often, we want to share parameters across multiple layers.\n",
    "Let's see how to do this elegantly.\n",
    "In the following we allocate a fully connected layer\n",
    "and then use its parameters specifically\n",
    "to set those of another layer."
   ]
  },
  {
   "cell_type": "code",
   "execution_count": 25,
   "id": "5ab1d77a",
   "metadata": {},
   "outputs": [],
   "source": [
    "class Net(nnx.Module):\n",
    "\tdef __init__(self, n_inputs: int, *, rngs: nnx.Rngs):\n",
    "\t\tself.net1 = nnx.Linear(n_inputs, 8, rngs=rngs)\n",
    "\t\tself.shared = nnx.Linear(8, 8, rngs=rngs)\n",
    "\t\tself.net2 = nnx.Linear(8, 1, rngs=rngs)\n",
    "\t\n",
    "\tdef __call__(self, x: jax.Array):\n",
    "\t\tx = nnx.relu(self.net1(x))\n",
    "\t\tx = nnx.relu(self.shared(x))\n",
    "\t\tx = nnx.relu(self.shared(x))\n",
    "\t\treturn self.net2(x)"
   ]
  },
  {
   "cell_type": "code",
   "execution_count": 26,
   "id": "563952de",
   "metadata": {},
   "outputs": [
    {
     "data": {
      "text/plain": [
       "Array([[-0.08396542],\n",
       "       [-0.06350967]], dtype=float32)"
      ]
     },
     "execution_count": 26,
     "metadata": {},
     "output_type": "execute_result"
    }
   ],
   "source": [
    "net = Net(4, rngs=nnx.Rngs(params=0))\n",
    "net(x)"
   ]
  },
  {
   "cell_type": "code",
   "execution_count": null,
   "id": "15b20a48",
   "metadata": {},
   "outputs": [],
   "source": [
    "# Check whether the parameters are different\n",
    "print(len(params['params']) == 3)\n",
    "params['params'].keys()"
   ]
  },
  {
   "cell_type": "code",
   "execution_count": 27,
   "id": "d7e5165b",
   "metadata": {},
   "outputs": [],
   "source": [
    "graphdef, params = nnx.split(net, nnx.Param)"
   ]
  },
  {
   "cell_type": "code",
   "execution_count": 29,
   "id": "aa49fd87",
   "metadata": {},
   "outputs": [
    {
     "data": {
      "text/plain": [
       "3"
      ]
     },
     "execution_count": 29,
     "metadata": {},
     "output_type": "execute_result"
    }
   ],
   "source": [
    "len(params)"
   ]
  },
  {
   "cell_type": "markdown",
   "id": "0b04defa",
   "metadata": {
    "origin_pos": 38
   },
   "source": [
    "This example shows that the parameters\n",
    "of the second and third layer are tied.\n",
    "They are not just equal, they are\n",
    "represented by the same exact tensor.\n",
    "Thus, if we change one of the parameters,\n",
    "the other one changes, too.\n"
   ]
  },
  {
   "cell_type": "markdown",
   "id": "a99a05c7",
   "metadata": {
    "origin_pos": 40
   },
   "source": [
    "## Summary\n",
    "\n",
    "We have several ways of accessing and tying model parameters.\n",
    "\n",
    "\n",
    "## Exercises\n",
    "\n",
    "1. Use the `NestMLP` model defined in :numref:`sec_model_construction` and access the parameters of the various layers.\n",
    "1. Construct an MLP containing a shared parameter layer and train it. During the training process, observe the model parameters and gradients of each layer.\n",
    "1. Why is sharing parameters a good idea?\n"
   ]
  },
  {
   "cell_type": "markdown",
   "id": "af74ab0e",
   "metadata": {
    "origin_pos": 44,
    "tab": [
     "jax"
    ]
   },
   "source": [
    "[Discussions](https://discuss.d2l.ai/t/17990)\n"
   ]
  }
 ],
 "metadata": {
  "kernelspec": {
   "display_name": "dl",
   "language": "python",
   "name": "python3"
  },
  "language_info": {
   "codemirror_mode": {
    "name": "ipython",
    "version": 3
   },
   "file_extension": ".py",
   "mimetype": "text/x-python",
   "name": "python",
   "nbconvert_exporter": "python",
   "pygments_lexer": "ipython3",
   "version": "3.12.7"
  },
  "required_libs": []
 },
 "nbformat": 4,
 "nbformat_minor": 5
}
